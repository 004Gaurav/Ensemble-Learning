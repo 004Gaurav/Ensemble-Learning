{
  "nbformat": 4,
  "nbformat_minor": 0,
  "metadata": {
    "colab": {
      "provenance": []
    },
    "kernelspec": {
      "name": "python3",
      "display_name": "Python 3"
    },
    "language_info": {
      "name": "python"
    }
  },
  "cells": [
    {
      "cell_type": "markdown",
      "source": [
        "# Theoretical"
      ],
      "metadata": {
        "id": "uJ1p8y3G6pBr"
      }
    },
    {
      "cell_type": "markdown",
      "source": [
        "#1. Can we use Bagging for regression problems ?\n",
        "- Yes, Bagging (Bootstrap Aggregating) can be used for regression problems.\n",
        "\n",
        " In regression, Bagging helps by reducing the variance of the model, making it more stable and accurate. For example, we can use Bagging Regressor from sklearn.ensemble, where multiple regression models (like Decision Trees) are trained on different bootstrapped samples, and their predictions are averaged to get the final output.\n",
        "\n",
        " This is especially useful when the base model is prone to overfitting, like decision trees. By combining many such models, Bagging gives better generalization on unseen data.\n",
        "\n",
        " ---\n",
        "\n",
        "# 2. What is the difference between multiple model training and single model training ?\n",
        "-  Single model training means training just one machine learning model on the dataset. This model alone is responsible for learning patterns and making predictions. For example, training one decision tree or one linear regression model.\n",
        "\n",
        " In contrast, multiple model training involves training several models and combining their outputs. This is often called ensemble learning. Techniques like Bagging, Boosting, and Stacking are examples of this. For instance, Random Forest trains many decision trees and averages their results.\n",
        "\n",
        " Single model training is simpler and faster but might not perform well if the model overfits or underfits. Multiple model training generally gives better performance because it reduces errors like overfitting or bias, but it's more complex and takes more time to train and interpret.\n",
        "\n",
        " In simple terms, single model training is like asking one person for an answer, while multiple model training is like asking a group of people and taking the best overall opinion.\n",
        "---\n",
        "\n",
        "#3. Explain the concept of feature randomness in Random Forest.\n",
        "\n",
        "- Feature randomness in Random Forest means that, during the training of each decision tree, the algorithm randomly selects a subset of features (columns) to consider when making a split at each node — instead of checking all available features.\n",
        "\n",
        " This random selection of features helps to make the trees in the forest less similar to each other. As a result, the final model becomes more diverse and less likely to overfit.\n",
        "\n",
        " So, even though all trees are trained on different bootstrapped samples of the data (that’s row-level randomness), feature randomness adds an extra layer of variation by changing which features are considered for splits.\n",
        "\n",
        " In short, feature randomness helps Random Forest be more powerful by increasing diversity among the trees and reducing overfitting.\n",
        "\n",
        "---\n",
        "\n",
        "#4. What is OOB (Out-of-Bag) Score ?\n",
        "\n",
        "- OOB (Out-of-Bag) Score is a way to evaluate the performance of a Random Forest model without using a separate validation set.\n",
        "\n",
        " When training each tree in a Random Forest, the algorithm uses bootstrapping — which means it selects random samples **with replacement** from the dataset. Because of this, some data points are left out of the training set for that tree. These left-out points are called **Out-of-Bag (OOB) samples**.\n",
        "\n",
        " The idea is simple:\n",
        " Each tree makes predictions on its own OOB samples (the data it didn’t see while training), and the model aggregates those predictions. Then we compare these predictions to the actual values to calculate an accuracy score (for classification) or an error score (for regression).\n",
        "\n",
        " So, the **OOB score gives us an internal estimate of model performance**, like cross-validation, but without needing a separate dataset.\n",
        "\n",
        " It’s efficient and useful for quick evaluation, especially when we want to avoid splitting the data.\n",
        "\n",
        "----\n",
        "\n",
        "#5. How can you measure the importance of features in a Random Forest model ?\n",
        "\n",
        "- We can measure the importance of features in a Random Forest model by checking how much each feature contributes to improving the model’s accuracy during training.\n",
        "\n",
        "There are mainly two common ways to do this:\n",
        "\n",
        "1. **Gini Importance (also called Mean Decrease in Impurity):**\n",
        "   Each time a feature is used to split a node, it helps reduce impurity (like Gini impurity or variance). Random Forest keeps track of how much impurity is reduced by each feature across all trees. The higher the total reduction, the more important the feature is.\n",
        "\n",
        "2. **Permutation Importance:**\n",
        "   After training, we randomly shuffle the values of one feature at a time and measure how much the model's performance drops. If shuffling a feature causes a big drop in accuracy, that feature is considered important. This method is more accurate but slower.\n",
        "\n",
        "In libraries like `scikit-learn`, we can easily access feature importances using:\n",
        "\n",
        "```python\n",
        "model.feature_importances_\n",
        "```\n",
        "\n",
        "This gives us a list of scores showing how important each feature is in the trained Random Forest.\n",
        "\n",
        "\n",
        "---\n",
        "\n",
        "#6. Explain the working principle of a Bagging Classifier.\n",
        "\n",
        "- The Bagging Classifier works on the idea of combining multiple models to improve accuracy and reduce overfitting.\n",
        "\n",
        "Here’s how it works step by step:\n",
        "\n",
        "1. **Bootstrapping the Data:**\n",
        "   It creates multiple random samples (with replacement) from the original training dataset. These are called bootstrapped datasets. Each sample can have repeated rows and may leave out some original rows.\n",
        "\n",
        "2. **Training Multiple Models:**\n",
        "   A base model (like a decision tree) is trained on each bootstrapped dataset. Each model learns slightly different patterns because the data is different.\n",
        "\n",
        "3. **Making Predictions:**\n",
        "\n",
        "   * For classification, each model gives a class prediction, and the final output is decided by **majority voting**.\n",
        "   * For regression, it would take the **average** of all predictions.\n",
        "\n",
        "4. **Result:**\n",
        "   Because the models are trained on different samples, their errors are less likely to be the same. Combining them helps cancel out individual errors and gives a more stable and accurate prediction.\n",
        "\n",
        "So, the Bagging Classifier reduces variance and makes the final model more robust, especially when using unstable models like decision trees.\n",
        "\n",
        "---\n",
        "\n",
        "#7. How do you evaluate a Bagging Classifier’s performance ?\n",
        "\n",
        "- To evaluate a **Bagging Classifier’s performance**, we use the same methods we use for any classification model, focusing on how well it predicts unseen data.\n",
        "\n",
        "Here are the main ways:\n",
        "\n",
        "1. **Accuracy Score:**\n",
        "   It tells us the percentage of correctly predicted labels. We calculate it on a test set using:\n",
        "\n",
        "   ```python\n",
        "   from sklearn.metrics import accuracy_score\n",
        "   accuracy_score(y_test, y_pred)\n",
        "   ```\n",
        "\n",
        "2. **Confusion Matrix:**\n",
        "   It shows how many predictions were correct and where the model made mistakes — like false positives and false negatives.\n",
        "\n",
        "   ```python\n",
        "   from sklearn.metrics import confusion_matrix\n",
        "   confusion_matrix(y_test, y_pred)\n",
        "   ```\n",
        "\n",
        "3. **Precision, Recall, and F1-Score:**\n",
        "   These are helpful especially when classes are imbalanced.\n",
        "\n",
        "   * **Precision:** How many predicted positives are actually positive\n",
        "   * **Recall:** How many actual positives were correctly predicted\n",
        "   * **F1-Score:** A balance between precision and recall\n",
        "\n",
        "   ```python\n",
        "   from sklearn.metrics import classification_report\n",
        "   print(classification_report(y_test, y_pred))\n",
        "   ```\n",
        "\n",
        "4. **ROC-AUC Score (for binary classification):**\n",
        "   It measures how well the model separates the two classes. A higher AUC means better performance.\n",
        "\n",
        "   ```python\n",
        "   from sklearn.metrics import roc_auc_score\n",
        "   roc_auc_score(y_test, y_prob)\n",
        "   ```\n",
        "\n",
        "5. **OOB (Out-of-Bag) Score (specific to Bagging):**\n",
        "   If `oob_score=True` when creating the BaggingClassifier, it automatically uses the samples not included in each bootstrapped dataset to estimate accuracy.\n",
        "\n",
        "   ```python\n",
        "   model.oob_score_\n",
        "   ```\n",
        "\n",
        "Using these metrics together gives a complete view of the Bagging Classifier’s performance.\n",
        "\n",
        "---\n",
        "\n",
        "#8. How does a Bagging Regressor work ?\n",
        "\n",
        "- A Bagging Regressor works by combining multiple regression models to improve prediction accuracy and reduce overfitting.\n",
        "\n",
        " Here’s the step-by-step process:\n",
        "\n",
        "1. **Bootstrapping the Data:**\n",
        "   It creates several random samples (with replacement) from the original training dataset. Each sample might have repeated data points and exclude some others.\n",
        "\n",
        "2. **Training Multiple Models:**\n",
        "   A base regression model (like a decision tree regressor) is trained separately on each bootstrapped dataset. Because the data varies slightly for each model, they learn different patterns.\n",
        "\n",
        "3. **Making Predictions:**\n",
        "   When predicting for new data, each model gives its own output, and the Bagging Regressor **averages** all these predictions to get the final result.\n",
        "\n",
        "4. **Why it Works:**\n",
        "   By averaging predictions from many models trained on different data samples, Bagging reduces the variance of the model. This means it’s less likely to overfit and performs better on unseen data.\n",
        "\n",
        " In short, Bagging Regressor uses multiple models trained on different subsets of data and combines their outputs to create a more stable and accurate regression prediction.\n",
        "\n",
        "---\n",
        "\n",
        "#9. What is the main advantage of ensemble techniques ?\n",
        "\n",
        "- The main advantage of ensemble techniques is that they **combine multiple\n",
        " models to produce better overall performance than any single model alone**.\n",
        "\n",
        " By aggregating the predictions of several models, ensembles can:\n",
        "\n",
        "* **Reduce errors caused by overfitting or bias** in individual models.\n",
        "* **Improve accuracy and robustness** by capturing different patterns in the data.\n",
        "* **Increase stability** since the final prediction is less sensitive to noise or fluctuations in the training data.\n",
        "\n",
        " In simple terms, ensembles act like a team where different models “vote” or contribute their strengths, leading to stronger and more reliable predictions.\n",
        "\n",
        "\n",
        "----\n",
        "\n",
        "#10. What is the main challenge of ensemble methods ?\n",
        "\n",
        "- The main challenge of ensemble methods is that they tend to be **more complex and computationally expensive** than using a single model.\n",
        "\n",
        "Because ensembles combine multiple models, they:\n",
        "\n",
        "* **Require more training time and resources** since you have to train many models instead of just one.\n",
        "* **Can be harder to interpret and explain**, making it difficult to understand how the final prediction is made.\n",
        "* **Need careful tuning and design** to make sure the models are diverse enough and combined effectively.\n",
        "\n",
        "So, while ensembles often improve accuracy, managing their complexity and resource demands can be a big challenge.\n",
        "\n",
        "\n",
        "---\n",
        "\n",
        "#11. Explain the key idea behind ensemble techniques.\n",
        "\n",
        "- The key idea behind ensemble techniques is to **combine multiple individual models to create a stronger overall model** that performs better than any single one.\n",
        "\n",
        "Each individual model may have its own strengths and weaknesses or make different errors. By aggregating their predictions—through voting, averaging, or stacking—ensemble methods reduce mistakes caused by overfitting, bias, or noise.\n",
        "\n",
        "This way, ensembles leverage the diversity among models to improve accuracy, robustness, and generalization on new data. It’s like getting a consensus from many experts rather than relying on just one opinion.\n",
        "\n",
        "----\n",
        "\n",
        "#12. What is a Random Forest Classifier ?\n",
        "\n",
        "- A Random Forest Classifier is an ensemble learning method used for classification tasks. It builds many decision trees during training, each on a different random subset of the data (using bootstrapping) and also considers a random subset of features when splitting nodes.\n",
        "\n",
        "Each tree makes a prediction, and the Random Forest combines these predictions by majority voting to decide the final class. This randomness and combination make the model more accurate and less likely to overfit compared to a single decision tree.\n",
        "\n",
        "In short, it’s a collection of decision trees working together to give a more reliable and powerful classification result.\n",
        "\n",
        "---\n",
        "\n",
        "#13. What are the main types of ensemble techniques ?\n",
        "\n",
        "- The main types of ensemble techniques are:\n",
        "\n",
        "1. **Bagging (Bootstrap Aggregating):**\n",
        "   It trains multiple models independently on different random samples (with replacement) of the training data and combines their predictions by voting (classification) or averaging (regression). Random Forest is a popular example of bagging.\n",
        "\n",
        "2. **Boosting:**\n",
        "   Models are trained sequentially, where each new model tries to correct the errors of the previous ones. The final prediction is a weighted combination of all models. Examples include AdaBoost, Gradient Boosting, and XGBoost.\n",
        "\n",
        "3. **Stacking (Stacked Generalization):**\n",
        "   Multiple different models (called base learners) are trained on the same data, and their outputs are used as input features to a higher-level model (meta-learner) that makes the final prediction.\n",
        "\n",
        "Each type has its own way of combining models to improve overall performance.\n",
        "\n",
        "---\n",
        "\n",
        "#14. Sure! Here are the answers to your questions divided by ----:\n",
        "\n",
        "---\n",
        "\n",
        "# **14. What is ensemble learning in machine learning?**\n",
        "- Ensemble learning is a technique where multiple models (often called weak learners) are combined to create a stronger, more accurate model. Instead of relying on a single model, ensembles aggregate the predictions of many models to reduce errors and improve generalization.\n",
        "\n",
        "---\n",
        "\n",
        "# **15. When should we avoid using ensemble methods?**\n",
        "- We should avoid ensemble methods when:\n",
        "\n",
        "* The dataset is very small, as ensembles can overcomplicate and overfit.\n",
        "* We need a model that is highly interpretable, since ensembles are usually complex and harder to explain.\n",
        "* Computational resources or time are limited, because ensembles require more training and prediction time.\n",
        "* The base model already performs very well and simplicity is preferred.\n",
        "\n",
        "---\n",
        "\n",
        "# **16. How does Bagging help in reducing overfitting?**\n",
        "- Bagging reduces overfitting by training multiple models on different bootstrapped samples of the data. Because each model sees a slightly different dataset, their errors tend to be uncorrelated. Combining their predictions (by voting or averaging) cancels out individual errors, lowering the overall variance and reducing overfitting.\n",
        "\n",
        "---\n",
        "\n",
        "# **17. Why is Random Forest better than a single Decision Tree?**\n",
        "- Random Forest is better because it builds many decision trees using different subsets of data and features, which reduces variance and overfitting common in single decision trees. By aggregating predictions from many diverse trees, Random Forest achieves higher accuracy and more stable results.\n",
        "\n",
        "---\n",
        "\n",
        "# **18. What is the role of bootstrap sampling in Bagging?**\n",
        "- Bootstrap sampling creates multiple random samples from the original dataset by sampling with replacement. Each sample is used to train a separate model. This introduces diversity among models, which is essential for Bagging to reduce variance and improve prediction stability.\n",
        "\n",
        "---\n",
        "\n",
        "#**19. What are some real-world applications of ensemble techniques?**\n",
        "- Ensemble techniques are widely used in:\n",
        "\n",
        "* Fraud detection in finance\n",
        "* Medical diagnosis and disease prediction\n",
        "* Customer churn prediction\n",
        "* Image and speech recognition\n",
        "* Recommendation systems\n",
        "* Spam email detection\n",
        "* Stock market forecasting\n",
        "\n",
        "---\n",
        "\n",
        "**20. What is the difference between Bagging and Boosting?**\n",
        "\n",
        "- Bagging trains multiple models independently on random bootstrapped samples and combines their predictions by voting or averaging. It mainly reduces variance. Boosting trains models sequentially, where each model focuses on correcting errors made by previous models, combining them in a weighted manner. Boosting reduces both bias and variance but is more prone to overfitting if not tuned properly.\n",
        "\n",
        "---\n"
      ],
      "metadata": {
        "id": "wnCkeusb6vOC"
      }
    },
    {
      "cell_type": "markdown",
      "source": [
        "# Practical"
      ],
      "metadata": {
        "id": "3NnLvpSvAqW6"
      }
    },
    {
      "cell_type": "code",
      "execution_count": 2,
      "metadata": {
        "colab": {
          "base_uri": "https://localhost:8080/"
        },
        "id": "CjJ1eYe86kx7",
        "outputId": "977ed7d7-1c83-4865-bfa4-5b15f0647c88"
      },
      "outputs": [
        {
          "output_type": "stream",
          "name": "stdout",
          "text": [
            "Bagging Classifier Accuracy: 1.0000\n"
          ]
        }
      ],
      "source": [
        "#21. Train a Bagging Classifier using Decision Trees on a sample dataset and print model accuracy.\n",
        "\n",
        "from sklearn.datasets import load_iris\n",
        "from sklearn.model_selection import train_test_split\n",
        "from sklearn.tree import DecisionTreeClassifier\n",
        "from sklearn.ensemble import BaggingClassifier\n",
        "from sklearn.metrics import accuracy_score\n",
        "\n",
        "# Load dataset\n",
        "iris = load_iris()\n",
        "X, y = iris.data, iris.target\n",
        "\n",
        "# Split data into train and test sets\n",
        "X_train, X_test, y_train, y_test = train_test_split(X, y, test_size=0.3, random_state=42)\n",
        "\n",
        "# Initialize base model - Decision Tree\n",
        "base_model = DecisionTreeClassifier()\n",
        "\n",
        "# Initialize Bagging Classifier with Decision Trees (use estimator instead of base_estimator)\n",
        "bagging_model = BaggingClassifier(estimator=base_model, n_estimators=50, random_state=42)\n",
        "\n",
        "# Train the Bagging Classifier\n",
        "bagging_model.fit(X_train, y_train)\n",
        "\n",
        "# Make predictions on test set\n",
        "y_pred = bagging_model.predict(X_test)\n",
        "\n",
        "# Calculate accuracy\n",
        "accuracy = accuracy_score(y_test, y_pred)\n",
        "print(f\"Bagging Classifier Accuracy: {accuracy:.4f}\")\n",
        "\n"
      ]
    },
    {
      "cell_type": "code",
      "source": [
        "#22. Train a Bagging Regressor using Decision Trees and evaluate using Mean Squared Error (MSE).\n",
        "\n",
        "from sklearn.datasets import fetch_california_housing\n",
        "from sklearn.model_selection import train_test_split\n",
        "from sklearn.tree import DecisionTreeRegressor\n",
        "from sklearn.ensemble import BaggingRegressor\n",
        "from sklearn.metrics import mean_squared_error\n",
        "\n",
        "# Load California housing dataset\n",
        "data = fetch_california_housing()\n",
        "X, y = data.data, data.target\n",
        "\n",
        "# Split data into train and test sets\n",
        "X_train, X_test, y_train, y_test = train_test_split(X, y, test_size=0.3, random_state=42)\n",
        "\n",
        "# Initialize base model - Decision Tree Regressor\n",
        "base_model = DecisionTreeRegressor()\n",
        "\n",
        "# Initialize Bagging Regressor with Decision Trees\n",
        "bagging_model = BaggingRegressor(estimator=base_model, n_estimators=50, random_state=42)\n",
        "\n",
        "# Train the Bagging Regressor\n",
        "bagging_model.fit(X_train, y_train)\n",
        "\n",
        "# Make predictions on test set\n",
        "y_pred = bagging_model.predict(X_test)\n",
        "\n",
        "# Calculate Mean Squared Error\n",
        "mse = mean_squared_error(y_test, y_pred)\n",
        "print(f\"Bagging Regressor Mean Squared Error: {mse:.4f}\")\n",
        "\n"
      ],
      "metadata": {
        "colab": {
          "base_uri": "https://localhost:8080/"
        },
        "id": "tCs9wLcdA8tU",
        "outputId": "9a3e8bc3-28ec-4e60-a30a-dd20c5bd6440"
      },
      "execution_count": 4,
      "outputs": [
        {
          "output_type": "stream",
          "name": "stdout",
          "text": [
            "Bagging Regressor Mean Squared Error: 0.2579\n"
          ]
        }
      ]
    },
    {
      "cell_type": "code",
      "source": [
        "#23. Train a Random Forest Classifier on the Breast Cancer dataset and print feature importance scores.\n",
        "\n",
        "from sklearn.datasets import load_breast_cancer\n",
        "from sklearn.model_selection import train_test_split\n",
        "from sklearn.ensemble import RandomForestClassifier\n",
        "\n",
        "# Load Breast Cancer dataset\n",
        "data = load_breast_cancer()\n",
        "X, y = data.data, data.target\n",
        "feature_names = data.feature_names\n",
        "\n",
        "# Split data into train and test sets\n",
        "X_train, X_test, y_train, y_test = train_test_split(X, y, test_size=0.3, random_state=42)\n",
        "\n",
        "# Initialize Random Forest Classifier\n",
        "rf_model = RandomForestClassifier(n_estimators=100, random_state=42)\n",
        "\n",
        "# Train the model\n",
        "rf_model.fit(X_train, y_train)\n",
        "\n",
        "# Get feature importance scores\n",
        "importances = rf_model.feature_importances_\n",
        "\n",
        "# Print feature names with their importance scores\n",
        "for name, importance in zip(feature_names, importances):\n",
        "    print(f\"{name}: {importance:.4f}\")\n"
      ],
      "metadata": {
        "colab": {
          "base_uri": "https://localhost:8080/"
        },
        "id": "ISFLMOYYBiFP",
        "outputId": "7a6ba7c9-6ce4-422d-8a52-efec8d0585e7"
      },
      "execution_count": 5,
      "outputs": [
        {
          "output_type": "stream",
          "name": "stdout",
          "text": [
            "mean radius: 0.0323\n",
            "mean texture: 0.0111\n",
            "mean perimeter: 0.0601\n",
            "mean area: 0.0538\n",
            "mean smoothness: 0.0062\n",
            "mean compactness: 0.0092\n",
            "mean concavity: 0.0806\n",
            "mean concave points: 0.1419\n",
            "mean symmetry: 0.0033\n",
            "mean fractal dimension: 0.0031\n",
            "radius error: 0.0164\n",
            "texture error: 0.0032\n",
            "perimeter error: 0.0118\n",
            "area error: 0.0295\n",
            "smoothness error: 0.0059\n",
            "compactness error: 0.0046\n",
            "concavity error: 0.0058\n",
            "concave points error: 0.0034\n",
            "symmetry error: 0.0040\n",
            "fractal dimension error: 0.0071\n",
            "worst radius: 0.0780\n",
            "worst texture: 0.0188\n",
            "worst perimeter: 0.0743\n",
            "worst area: 0.1182\n",
            "worst smoothness: 0.0118\n",
            "worst compactness: 0.0175\n",
            "worst concavity: 0.0411\n",
            "worst concave points: 0.1271\n",
            "worst symmetry: 0.0129\n",
            "worst fractal dimension: 0.0069\n"
          ]
        }
      ]
    },
    {
      "cell_type": "code",
      "source": [
        "#24. Train a Random Forest Regressor and compare its performance with a single Decision Tree.\n",
        "\n",
        "from sklearn.datasets import fetch_california_housing\n",
        "from sklearn.model_selection import train_test_split\n",
        "from sklearn.tree import DecisionTreeRegressor\n",
        "from sklearn.ensemble import RandomForestRegressor\n",
        "from sklearn.metrics import mean_squared_error\n",
        "\n",
        "# Load California housing dataset\n",
        "data = fetch_california_housing()\n",
        "X, y = data.data, data.target\n",
        "\n",
        "# Split data into train and test sets\n",
        "X_train, X_test, y_train, y_test = train_test_split(X, y, test_size=0.3, random_state=42)\n",
        "\n",
        "# Initialize single Decision Tree Regressor\n",
        "dt_model = DecisionTreeRegressor(random_state=42)\n",
        "\n",
        "# Initialize Random Forest Regressor\n",
        "rf_model = RandomForestRegressor(n_estimators=100, random_state=42)\n",
        "\n",
        "# Train Decision Tree\n",
        "dt_model.fit(X_train, y_train)\n",
        "y_pred_dt = dt_model.predict(X_test)\n",
        "mse_dt = mean_squared_error(y_test, y_pred_dt)\n",
        "\n",
        "# Train Random Forest\n",
        "rf_model.fit(X_train, y_train)\n",
        "y_pred_rf = rf_model.predict(X_test)\n",
        "mse_rf = mean_squared_error(y_test, y_pred_rf)\n",
        "\n",
        "print(f\"Decision Tree MSE: {mse_dt:.4f}\")\n",
        "print(f\"Random Forest MSE: {mse_rf:.4f}\")\n"
      ],
      "metadata": {
        "colab": {
          "base_uri": "https://localhost:8080/"
        },
        "id": "6-Vog61JBiDN",
        "outputId": "ce038769-dcfb-4a64-fcb6-55d4323937b7"
      },
      "execution_count": 6,
      "outputs": [
        {
          "output_type": "stream",
          "name": "stdout",
          "text": [
            "Decision Tree MSE: 0.5280\n",
            "Random Forest MSE: 0.2565\n"
          ]
        }
      ]
    },
    {
      "cell_type": "code",
      "source": [
        "#25. Compute the Out-of-Bag (OOB) Score for a Random Forest Classifier.\n",
        "\n",
        "from sklearn.datasets import load_breast_cancer\n",
        "from sklearn.ensemble import RandomForestClassifier\n",
        "from sklearn.model_selection import train_test_split\n",
        "\n",
        "# Load dataset\n",
        "data = load_breast_cancer()\n",
        "X, y = data.data, data.target\n",
        "\n",
        "# Split data (optional, OOB uses training data)\n",
        "X_train, X_test, y_train, y_test = train_test_split(X, y, test_size=0.3, random_state=42)\n",
        "\n",
        "# Initialize Random Forest with OOB enabled\n",
        "rf_model = RandomForestClassifier(n_estimators=100, oob_score=True, random_state=42)\n",
        "\n",
        "# Train model\n",
        "rf_model.fit(X_train, y_train)\n",
        "\n",
        "# Print Out-of-Bag score\n",
        "print(f\"OOB Score: {rf_model.oob_score_:.4f}\")\n"
      ],
      "metadata": {
        "colab": {
          "base_uri": "https://localhost:8080/"
        },
        "id": "kRozP_4aBiBC",
        "outputId": "5d99d0f0-47d4-4eb0-fb9f-fe8c97eab06b"
      },
      "execution_count": 7,
      "outputs": [
        {
          "output_type": "stream",
          "name": "stdout",
          "text": [
            "OOB Score: 0.9548\n"
          ]
        }
      ]
    },
    {
      "cell_type": "code",
      "source": [
        "#26. Train a Bagging Classifier using SVM as a base estimator and print accuracy.\n",
        "\n",
        "from sklearn.datasets import load_iris\n",
        "from sklearn.model_selection import train_test_split\n",
        "from sklearn.svm import SVC\n",
        "from sklearn.ensemble import BaggingClassifier\n",
        "from sklearn.metrics import accuracy_score\n",
        "\n",
        "# Load dataset\n",
        "iris = load_iris()\n",
        "X, y = iris.data, iris.target\n",
        "\n",
        "# Split data into train and test sets\n",
        "X_train, X_test, y_train, y_test = train_test_split(X, y, test_size=0.3, random_state=42)\n",
        "\n",
        "# Initialize base estimator - SVM classifier\n",
        "svm_base = SVC(probability=True, kernel='rbf', random_state=42)\n",
        "\n",
        "# Initialize Bagging Classifier with SVM as base estimator\n",
        "bagging_model = BaggingClassifier(estimator=svm_base, n_estimators=20, random_state=42)\n",
        "\n",
        "# Train the Bagging Classifier\n",
        "bagging_model.fit(X_train, y_train)\n",
        "\n",
        "# Predict on test set\n",
        "y_pred = bagging_model.predict(X_test)\n",
        "\n",
        "# Calculate accuracy\n",
        "accuracy = accuracy_score(y_test, y_pred)\n",
        "print(f\"Bagging Classifier with SVM Accuracy: {accuracy:.4f}\")\n"
      ],
      "metadata": {
        "colab": {
          "base_uri": "https://localhost:8080/"
        },
        "id": "rXICliwgBh_I",
        "outputId": "041cf950-5fea-4e3c-b0a1-40de3acb9563"
      },
      "execution_count": 8,
      "outputs": [
        {
          "output_type": "stream",
          "name": "stdout",
          "text": [
            "Bagging Classifier with SVM Accuracy: 1.0000\n"
          ]
        }
      ]
    },
    {
      "cell_type": "code",
      "source": [
        "#27. Train a Random Forest Classifier with different numbers of trees and compare accuracy.\n",
        "\n",
        "from sklearn.datasets import load_breast_cancer\n",
        "from sklearn.model_selection import train_test_split\n",
        "from sklearn.ensemble import RandomForestClassifier\n",
        "from sklearn.metrics import accuracy_score\n",
        "\n",
        "# Load dataset\n",
        "data = load_breast_cancer()\n",
        "X, y = data.data, data.target\n",
        "\n",
        "# Split data into train and test sets\n",
        "X_train, X_test, y_train, y_test = train_test_split(X, y, test_size=0.3, random_state=42)\n",
        "\n",
        "# Different numbers of trees to try\n",
        "n_trees_list = [1, 5, 10, 50, 100, 200]\n",
        "\n",
        "for n_trees in n_trees_list:\n",
        "    # Initialize Random Forest with n_trees\n",
        "    rf_model = RandomForestClassifier(n_estimators=n_trees, random_state=42)\n",
        "\n",
        "    # Train model\n",
        "    rf_model.fit(X_train, y_train)\n",
        "\n",
        "    # Predict on test set\n",
        "    y_pred = rf_model.predict(X_test)\n",
        "\n",
        "    # Calculate accuracy\n",
        "    accuracy = accuracy_score(y_test, y_pred)\n",
        "\n",
        "    print(f\"Random Forest with {n_trees} trees - Accuracy: {accuracy:.4f}\")\n"
      ],
      "metadata": {
        "colab": {
          "base_uri": "https://localhost:8080/"
        },
        "id": "HSMy3w0cBh8x",
        "outputId": "94205250-3d49-4774-ea7c-318efb491910"
      },
      "execution_count": 9,
      "outputs": [
        {
          "output_type": "stream",
          "name": "stdout",
          "text": [
            "Random Forest with 1 trees - Accuracy: 0.9474\n",
            "Random Forest with 5 trees - Accuracy: 0.9649\n",
            "Random Forest with 10 trees - Accuracy: 0.9649\n",
            "Random Forest with 50 trees - Accuracy: 0.9708\n",
            "Random Forest with 100 trees - Accuracy: 0.9708\n",
            "Random Forest with 200 trees - Accuracy: 0.9708\n"
          ]
        }
      ]
    },
    {
      "cell_type": "code",
      "source": [
        "#28. Train a Bagging Classifier using Logistic Regression as a base estimator and print AUC score.\n",
        "\n",
        "from sklearn.linear_model import LogisticRegression\n",
        "from sklearn.ensemble import BaggingClassifier\n",
        "from sklearn.preprocessing import StandardScaler\n",
        "from sklearn.metrics import roc_auc_score\n",
        "from sklearn.model_selection import train_test_split\n",
        "import numpy as np\n",
        "\n",
        "# Assuming X, y are your data features and labels\n",
        "X_train, X_test, y_train, y_test = train_test_split(X, y, test_size=0.3, random_state=42)\n",
        "\n",
        "# Scale the data\n",
        "scaler = StandardScaler()\n",
        "X_train_scaled = scaler.fit_transform(X_train)\n",
        "X_test_scaled = scaler.transform(X_test)\n",
        "\n",
        "# Base logistic regression with higher max_iter\n",
        "base_lr = LogisticRegression(max_iter=1000)\n",
        "\n",
        "# Bagging classifier using logistic regression\n",
        "bagging = BaggingClassifier(estimator=base_lr, n_estimators=10, random_state=42)\n",
        "bagging.fit(X_train_scaled, y_train)\n",
        "\n",
        "# Predict probabilities for AUC calculation\n",
        "y_probs = bagging.predict_proba(X_test_scaled)[:, 1]\n",
        "\n",
        "# Calculate AUC score\n",
        "auc = roc_auc_score(y_test, y_probs)\n",
        "print(f\"AUC Score: {auc:.4f}\")\n",
        "\n"
      ],
      "metadata": {
        "colab": {
          "base_uri": "https://localhost:8080/"
        },
        "id": "d_Feq898Bh6P",
        "outputId": "ff848402-9f6b-47f0-94c9-c18e90b678f6"
      },
      "execution_count": 12,
      "outputs": [
        {
          "output_type": "stream",
          "name": "stdout",
          "text": [
            "AUC Score: 0.9974\n"
          ]
        }
      ]
    },
    {
      "cell_type": "code",
      "source": [
        "#29. Train a Random Forest Regressor and analyze feature importance scores\n",
        "\n",
        "from sklearn.datasets import fetch_california_housing\n",
        "from sklearn.ensemble import RandomForestRegressor\n",
        "from sklearn.model_selection import train_test_split\n",
        "import pandas as pd\n",
        "import matplotlib.pyplot as plt\n",
        "\n",
        "# Load California housing dataset\n",
        "housing = fetch_california_housing(as_frame=True)\n",
        "X = housing.data\n",
        "y = housing.target\n",
        "\n",
        "# Split data\n",
        "X_train, X_test, y_train, y_test = train_test_split(X, y, test_size=0.2, random_state=42)\n",
        "\n",
        "# Train Random Forest Regressor\n",
        "rf = RandomForestRegressor(n_estimators=100, random_state=42)\n",
        "rf.fit(X_train, y_train)\n",
        "\n",
        "# Feature importances\n",
        "importances = rf.feature_importances_\n",
        "feat_imp_df = pd.DataFrame({'Feature': X.columns, 'Importance': importances}).sort_values(by='Importance', ascending=False)\n",
        "\n",
        "# Plot feature importances\n",
        "plt.figure(figsize=(10,6))\n",
        "plt.barh(feat_imp_df['Feature'], feat_imp_df['Importance'])\n",
        "plt.xlabel('Importance Score')\n",
        "plt.title('Feature Importance from Random Forest')\n",
        "plt.gca().invert_yaxis()\n",
        "plt.show()\n"
      ],
      "metadata": {
        "colab": {
          "base_uri": "https://localhost:8080/",
          "height": 564
        },
        "id": "rT0Sy4C_Bh3v",
        "outputId": "ea39c957-63d8-4189-c4fe-1298ad29a970"
      },
      "execution_count": 14,
      "outputs": [
        {
          "output_type": "display_data",
          "data": {
            "text/plain": [
              "<Figure size 1000x600 with 1 Axes>"
            ],
            "image/png": "[encoded data removed]"
          },
          "metadata": {}
        }
      ]
    },
    {
      "cell_type": "code",
      "source": [
        "#30. Train an ensemble model using both Bagging and Random Forest and compare accuracy.\n",
        "\n",
        "from sklearn.datasets import fetch_california_housing\n",
        "from sklearn.ensemble import BaggingRegressor, RandomForestRegressor\n",
        "from sklearn.tree import DecisionTreeRegressor\n",
        "from sklearn.model_selection import train_test_split\n",
        "from sklearn.metrics import r2_score\n",
        "\n",
        "# Load dataset\n",
        "housing = fetch_california_housing(as_frame=True)\n",
        "X, y = housing.data, housing.target\n",
        "\n",
        "# Split data\n",
        "X_train, X_test, y_train, y_test = train_test_split(X, y, test_size=0.2, random_state=42)\n",
        "\n",
        "# Bagging Regressor with Decision Tree base estimator (updated keyword)\n",
        "bagging = BaggingRegressor(estimator=DecisionTreeRegressor(), n_estimators=100, random_state=42)\n",
        "bagging.fit(X_train, y_train)\n",
        "y_pred_bag = bagging.predict(X_test)\n",
        "r2_bag = r2_score(y_test, y_pred_bag)\n",
        "\n",
        "# Random Forest Regressor\n",
        "rf = RandomForestRegressor(n_estimators=100, random_state=42)\n",
        "rf.fit(X_train, y_train)\n",
        "y_pred_rf = rf.predict(X_test)\n",
        "r2_rf = r2_score(y_test, y_pred_rf)\n",
        "\n",
        "print(f\"Bagging Regressor R² Score: {r2_bag:.4f}\")\n",
        "print(f\"Random Forest Regressor R² Score: {r2_rf:.4f}\")\n",
        "\n"
      ],
      "metadata": {
        "colab": {
          "base_uri": "https://localhost:8080/"
        },
        "id": "DGkLkZPSBhuD",
        "outputId": "30296aa5-c54a-4f16-ce0e-daf7ea09094b"
      },
      "execution_count": 16,
      "outputs": [
        {
          "output_type": "stream",
          "name": "stdout",
          "text": [
            "Bagging Regressor R² Score: 0.8047\n",
            "Random Forest Regressor R² Score: 0.8051\n"
          ]
        }
      ]
    },
    {
      "cell_type": "code",
      "source": [
        "#31. Train a Random Forest Classifier and tune hyperparameters using GridSearchCV.\n",
        "\n",
        "from sklearn.datasets import load_iris\n",
        "from sklearn.ensemble import RandomForestClassifier\n",
        "from sklearn.model_selection import train_test_split, GridSearchCV\n",
        "from sklearn.metrics import accuracy_score\n",
        "\n",
        "# Load data\n",
        "iris = load_iris()\n",
        "X, y = iris.data, iris.target\n",
        "\n",
        "# Split into train-test\n",
        "X_train, X_test, y_train, y_test = train_test_split(X, y, test_size=0.2, random_state=42)\n",
        "\n",
        "# Define model\n",
        "rf = RandomForestClassifier(random_state=42)\n",
        "\n",
        "# Hyperparameter grid for tuning\n",
        "param_grid = {\n",
        "    'n_estimators': [50, 100, 200],\n",
        "    'max_depth': [None, 5, 10],\n",
        "    'min_samples_split': [2, 5],\n",
        "    'min_samples_leaf': [1, 2]\n",
        "}\n",
        "\n",
        "# GridSearchCV setup\n",
        "grid_search = GridSearchCV(estimator=rf, param_grid=param_grid, cv=5, n_jobs=-1, verbose=1)\n",
        "\n",
        "# Fit GridSearch to training data\n",
        "grid_search.fit(X_train, y_train)\n",
        "\n",
        "# Best parameters and estimator\n",
        "print(\"Best Parameters:\", grid_search.best_params_)\n",
        "\n",
        "# Predict on test data\n",
        "y_pred = grid_search.best_estimator_.predict(X_test)\n",
        "\n",
        "# Accuracy score\n",
        "print(\"Test Accuracy:\", accuracy_score(y_test, y_pred))\n"
      ],
      "metadata": {
        "colab": {
          "base_uri": "https://localhost:8080/"
        },
        "id": "MNoKyGnsDx29",
        "outputId": "7d91ce57-e558-4963-d214-4ed7eb311816"
      },
      "execution_count": 17,
      "outputs": [
        {
          "output_type": "stream",
          "name": "stdout",
          "text": [
            "Fitting 5 folds for each of 36 candidates, totalling 180 fits\n",
            "Best Parameters: {'max_depth': None, 'min_samples_leaf': 2, 'min_samples_split': 2, 'n_estimators': 200}\n",
            "Test Accuracy: 1.0\n"
          ]
        }
      ]
    },
    {
      "cell_type": "code",
      "source": [
        "#32. Train a Bagging Regressor with different numbers of base estimators and compare performance.\n",
        "\n",
        "from sklearn.datasets import fetch_california_housing\n",
        "from sklearn.ensemble import BaggingRegressor\n",
        "from sklearn.tree import DecisionTreeRegressor\n",
        "from sklearn.model_selection import train_test_split\n",
        "from sklearn.metrics import mean_squared_error\n",
        "import matplotlib.pyplot as plt\n",
        "\n",
        "# Load dataset\n",
        "data = fetch_california_housing()\n",
        "X, y = data.data, data.target\n",
        "\n",
        "# Split into train/test sets\n",
        "X_train, X_test, y_train, y_test = train_test_split(X, y, test_size=0.2, random_state=42)\n",
        "\n",
        "# Different numbers of base estimators to try\n",
        "n_estimators_list = [5, 10, 20, 50, 100]\n",
        "\n",
        "mse_scores = []\n",
        "\n",
        "for n in n_estimators_list:\n",
        "    # Initialize Bagging Regressor with DecisionTreeRegressor as base estimator\n",
        "    model = BaggingRegressor(estimator=DecisionTreeRegressor(), n_estimators=n, random_state=42)\n",
        "    model.fit(X_train, y_train)\n",
        "    y_pred = model.predict(X_test)\n",
        "    mse = mean_squared_error(y_test, y_pred)\n",
        "    mse_scores.append(mse)\n",
        "    print(f'n_estimators={n}, Test MSE={mse:.4f}')\n",
        "\n",
        "# Plot the results\n",
        "plt.figure(figsize=(8,5))\n",
        "plt.plot(n_estimators_list, mse_scores, marker='o')\n",
        "plt.title('Bagging Regressor Performance vs. Number of Base Estimators')\n",
        "plt.xlabel('Number of Base Estimators')\n",
        "plt.ylabel('Test Mean Squared Error')\n",
        "plt.grid(True)\n",
        "plt.show()\n"
      ],
      "metadata": {
        "colab": {
          "base_uri": "https://localhost:8080/",
          "height": 574
        },
        "id": "rjqy6WMKEDHL",
        "outputId": "603b0325-1afb-4aed-d018-1dbfc815111c"
      },
      "execution_count": 19,
      "outputs": [
        {
          "output_type": "stream",
          "name": "stdout",
          "text": [
            "n_estimators=5, Test MSE=0.3060\n",
            "n_estimators=10, Test MSE=0.2824\n",
            "n_estimators=20, Test MSE=0.2643\n",
            "n_estimators=50, Test MSE=0.2573\n",
            "n_estimators=100, Test MSE=0.2559\n"
          ]
        },
        {
          "output_type": "display_data",
          "data": {
            "text/plain": [
              "<Figure size 800x500 with 1 Axes>"
            ],
            "image/png": "[encoded data removed]"
          },
          "metadata": {}
        }
      ]
    },
    {
      "cell_type": "code",
      "source": [
        "#33. Train a Random Forest Classifier and analyze misclassified samples.\n",
        "\n",
        "from sklearn.datasets import load_iris\n",
        "from sklearn.ensemble import RandomForestClassifier\n",
        "from sklearn.model_selection import train_test_split\n",
        "import pandas as pd\n",
        "import numpy as np\n",
        "\n",
        "# Load dataset\n",
        "data = load_iris()\n",
        "X = data.data\n",
        "y = data.target\n",
        "feature_names = data.feature_names\n",
        "target_names = data.target_names\n",
        "\n",
        "# Split into train and test\n",
        "X_train, X_test, y_train, y_test = train_test_split(X, y, test_size=0.2, random_state=42)\n",
        "\n",
        "# Train Random Forest Classifier\n",
        "rf = RandomForestClassifier(n_estimators=100, random_state=42)\n",
        "rf.fit(X_train, y_train)\n",
        "\n",
        "# Predict on test set\n",
        "y_pred = rf.predict(X_test)\n",
        "\n",
        "# Identify misclassified samples\n",
        "misclassified_idx = np.where(y_pred != y_test)[0]\n",
        "\n",
        "print(f'Total test samples: {len(y_test)}')\n",
        "print(f'Number of misclassified samples: {len(misclassified_idx)}')\n",
        "\n",
        "# Create DataFrame for misclassified samples for easier analysis\n",
        "misclassified_df = pd.DataFrame(X_test[misclassified_idx], columns=feature_names)\n",
        "misclassified_df['True Label'] = [target_names[i] for i in y_test[misclassified_idx]]\n",
        "misclassified_df['Predicted Label'] = [target_names[i] for i in y_pred[misclassified_idx]]\n",
        "\n",
        "print(\"\\nMisclassified samples:\")\n",
        "print(misclassified_df)\n"
      ],
      "metadata": {
        "colab": {
          "base_uri": "https://localhost:8080/"
        },
        "id": "IaVR8Hs2EDD1",
        "outputId": "372c7776-12c8-47e5-bf60-6bd641e8d43a"
      },
      "execution_count": 20,
      "outputs": [
        {
          "output_type": "stream",
          "name": "stdout",
          "text": [
            "Total test samples: 30\n",
            "Number of misclassified samples: 0\n",
            "\n",
            "Misclassified samples:\n",
            "Empty DataFrame\n",
            "Columns: [sepal length (cm), sepal width (cm), petal length (cm), petal width (cm), True Label, Predicted Label]\n",
            "Index: []\n"
          ]
        }
      ]
    },
    {
      "cell_type": "code",
      "source": [
        "#34. Train a Bagging Classifier and compare its performance with a single Decision Tree Classifier.\n",
        "\n",
        "from sklearn.datasets import load_iris\n",
        "from sklearn.tree import DecisionTreeClassifier\n",
        "from sklearn.ensemble import BaggingClassifier\n",
        "from sklearn.model_selection import train_test_split\n",
        "from sklearn.metrics import accuracy_score\n",
        "\n",
        "# Load dataset\n",
        "data = load_iris()\n",
        "X = data.data\n",
        "y = data.target\n",
        "\n",
        "# Split dataset\n",
        "X_train, X_test, y_train, y_test = train_test_split(X, y, test_size=0.2, random_state=42)\n",
        "\n",
        "# Train Decision Tree Classifier\n",
        "dt = DecisionTreeClassifier(random_state=42)\n",
        "dt.fit(X_train, y_train)\n",
        "y_pred_dt = dt.predict(X_test)\n",
        "acc_dt = accuracy_score(y_test, y_pred_dt)\n",
        "\n",
        "# Train Bagging Classifier using 'estimator' instead of 'base_estimator'\n",
        "bagging = BaggingClassifier(estimator=DecisionTreeClassifier(), n_estimators=100, random_state=42)\n",
        "bagging.fit(X_train, y_train)\n",
        "y_pred_bagging = bagging.predict(X_test)\n",
        "acc_bagging = accuracy_score(y_test, y_pred_bagging)\n",
        "\n",
        "print(f\"Decision Tree Accuracy: {acc_dt:.4f}\")\n",
        "print(f\"Bagging Classifier Accuracy: {acc_bagging:.4f}\")\n",
        "\n"
      ],
      "metadata": {
        "colab": {
          "base_uri": "https://localhost:8080/"
        },
        "id": "wmRSbzemEDBy",
        "outputId": "90e4bd3e-bf7a-4b54-c25f-822deda4e813"
      },
      "execution_count": 22,
      "outputs": [
        {
          "output_type": "stream",
          "name": "stdout",
          "text": [
            "Decision Tree Accuracy: 1.0000\n",
            "Bagging Classifier Accuracy: 1.0000\n"
          ]
        }
      ]
    },
    {
      "cell_type": "code",
      "source": [
        "#35. Train a Random Forest Classifier and visualize the confusion matrix.\n",
        "\n",
        "from sklearn.datasets import load_iris\n",
        "from sklearn.ensemble import RandomForestClassifier\n",
        "from sklearn.model_selection import train_test_split\n",
        "from sklearn.metrics import confusion_matrix, ConfusionMatrixDisplay\n",
        "import matplotlib.pyplot as plt\n",
        "\n",
        "# Load dataset\n",
        "data = load_iris()\n",
        "X = data.data\n",
        "y = data.target\n",
        "\n",
        "# Split into train and test\n",
        "X_train, X_test, y_train, y_test = train_test_split(X, y, test_size=0.2, random_state=42)\n",
        "\n",
        "# Train Random Forest Classifier\n",
        "rf = RandomForestClassifier(random_state=42)\n",
        "rf.fit(X_train, y_train)\n",
        "\n",
        "# Predict on test set\n",
        "y_pred = rf.predict(X_test)\n",
        "\n",
        "# Compute confusion matrix\n",
        "cm = confusion_matrix(y_test, y_pred)\n",
        "\n",
        "# Visualize confusion matrix\n",
        "disp = ConfusionMatrixDisplay(confusion_matrix=cm, display_labels=data.target_names)\n",
        "disp.plot(cmap=plt.cm.Blues)\n",
        "plt.title(\"Random Forest Confusion Matrix\")\n",
        "plt.show()\n"
      ],
      "metadata": {
        "colab": {
          "base_uri": "https://localhost:8080/",
          "height": 472
        },
        "id": "U0b0Hfy0EC_3",
        "outputId": "43fb66e9-7d1a-4742-b526-fec6a2ca8f7e"
      },
      "execution_count": 23,
      "outputs": [
        {
          "output_type": "display_data",
          "data": {
            "text/plain": [
              "<Figure size 640x480 with 2 Axes>"
            ],
            "image/png": "[encoded data removed]"
          },
          "metadata": {}
        }
      ]
    },
    {
      "cell_type": "code",
      "source": [
        "#36. Train a Stacking Classifier using Decision Trees, SVM, and Logistic Regression, and compare accuracy.\n",
        "\n",
        "from sklearn.datasets import load_iris\n",
        "from sklearn.ensemble import StackingClassifier\n",
        "from sklearn.tree import DecisionTreeClassifier\n",
        "from sklearn.svm import SVC\n",
        "from sklearn.linear_model import LogisticRegression\n",
        "from sklearn.model_selection import train_test_split\n",
        "from sklearn.metrics import accuracy_score\n",
        "\n",
        "# Load data\n",
        "data = load_iris()\n",
        "X, y = data.data, data.target\n",
        "\n",
        "# Split data\n",
        "X_train, X_test, y_train, y_test = train_test_split(X, y, test_size=0.2, random_state=42)\n",
        "\n",
        "# Base estimators\n",
        "estimators = [\n",
        "    ('dt', DecisionTreeClassifier(random_state=42)),\n",
        "    ('svm', SVC(probability=True, random_state=42)),\n",
        "    ('lr', LogisticRegression(max_iter=1000, random_state=42))\n",
        "]\n",
        "\n",
        "# Stacking Classifier with Logistic Regression as final estimator\n",
        "stacking_clf = StackingClassifier(estimators=estimators, final_estimator=LogisticRegression(), cv=5)\n",
        "stacking_clf.fit(X_train, y_train)\n",
        "y_pred_stack = stacking_clf.predict(X_test)\n",
        "\n",
        "# Individual models for comparison\n",
        "dt_clf = DecisionTreeClassifier(random_state=42)\n",
        "dt_clf.fit(X_train, y_train)\n",
        "y_pred_dt = dt_clf.predict(X_test)\n",
        "\n",
        "svm_clf = SVC(random_state=42)\n",
        "svm_clf.fit(X_train, y_train)\n",
        "y_pred_svm = svm_clf.predict(X_test)\n",
        "\n",
        "lr_clf = LogisticRegression(max_iter=1000, random_state=42)\n",
        "lr_clf.fit(X_train, y_train)\n",
        "y_pred_lr = lr_clf.predict(X_test)\n",
        "\n",
        "# Accuracy scores\n",
        "print(\"Stacking Classifier Accuracy:\", accuracy_score(y_test, y_pred_stack))\n",
        "print(\"Decision Tree Accuracy:\", accuracy_score(y_test, y_pred_dt))\n",
        "print(\"SVM Accuracy:\", accuracy_score(y_test, y_pred_svm))\n",
        "print(\"Logistic Regression Accuracy:\", accuracy_score(y_test, y_pred_lr))\n"
      ],
      "metadata": {
        "colab": {
          "base_uri": "https://localhost:8080/"
        },
        "id": "BIQvo-IwEC9m",
        "outputId": "adb7c609-d54a-466e-fc0e-964e3eaf5213"
      },
      "execution_count": 24,
      "outputs": [
        {
          "output_type": "stream",
          "name": "stdout",
          "text": [
            "Stacking Classifier Accuracy: 1.0\n",
            "Decision Tree Accuracy: 1.0\n",
            "SVM Accuracy: 1.0\n",
            "Logistic Regression Accuracy: 1.0\n"
          ]
        }
      ]
    },
    {
      "cell_type": "code",
      "source": [
        "#37. Train a Random Forest Classifier and print the top 5 most important features.\n",
        "\n",
        "from sklearn.datasets import load_iris\n",
        "from sklearn.ensemble import RandomForestClassifier\n",
        "from sklearn.model_selection import train_test_split\n",
        "import pandas as pd\n",
        "\n",
        "# Load dataset\n",
        "data = load_iris()\n",
        "X, y = data.data, data.target\n",
        "feature_names = data.feature_names\n",
        "\n",
        "# Split dataset\n",
        "X_train, X_test, y_train, y_test = train_test_split(X, y, test_size=0.2, random_state=42)\n",
        "\n",
        "# Train Random Forest Classifier\n",
        "rf = RandomForestClassifier(random_state=42)\n",
        "rf.fit(X_train, y_train)\n",
        "\n",
        "# Get feature importances\n",
        "importances = rf.feature_importances_\n",
        "\n",
        "# Create a DataFrame for better visualization\n",
        "feature_importance_df = pd.DataFrame({\n",
        "    'Feature': feature_names,\n",
        "    'Importance': importances\n",
        "}).sort_values(by='Importance', ascending=False)\n",
        "\n",
        "# Print top 5 features\n",
        "print(feature_importance_df.head(5))\n"
      ],
      "metadata": {
        "colab": {
          "base_uri": "https://localhost:8080/"
        },
        "id": "C9AQUVsrEC7j",
        "outputId": "8717f7e7-7ca0-4394-a088-00f5eeee068e"
      },
      "execution_count": 25,
      "outputs": [
        {
          "output_type": "stream",
          "name": "stdout",
          "text": [
            "             Feature  Importance\n",
            "2  petal length (cm)    0.439994\n",
            "3   petal width (cm)    0.421522\n",
            "0  sepal length (cm)    0.108098\n",
            "1   sepal width (cm)    0.030387\n"
          ]
        }
      ]
    },
    {
      "cell_type": "code",
      "source": [
        "#38. Train a Bagging Classifier and evaluate performance using Precision, Recall, and F1-score.\n",
        "\n",
        "from sklearn.datasets import load_iris\n",
        "from sklearn.ensemble import BaggingClassifier\n",
        "from sklearn.tree import DecisionTreeClassifier\n",
        "from sklearn.model_selection import train_test_split\n",
        "from sklearn.metrics import classification_report\n",
        "\n",
        "# Load dataset\n",
        "data = load_iris()\n",
        "X, y = data.data, data.target\n",
        "\n",
        "# Split into train-test\n",
        "X_train, X_test, y_train, y_test = train_test_split(X, y, test_size=0.2, random_state=42)\n",
        "\n",
        "# Create Bagging Classifier with Decision Trees as base estimator\n",
        "bagging = BaggingClassifier(\n",
        "    estimator=DecisionTreeClassifier(),\n",
        "    n_estimators=50,\n",
        "    random_state=42\n",
        ")\n",
        "\n",
        "# Train\n",
        "bagging.fit(X_train, y_train)\n",
        "\n",
        "# Predict\n",
        "y_pred = bagging.predict(X_test)\n",
        "\n",
        "# Evaluate\n",
        "print(classification_report(y_test, y_pred))\n"
      ],
      "metadata": {
        "colab": {
          "base_uri": "https://localhost:8080/"
        },
        "id": "WgIyaBCXEC5p",
        "outputId": "8e991600-cb2e-49a7-e2d2-9b06d1248ddd"
      },
      "execution_count": 26,
      "outputs": [
        {
          "output_type": "stream",
          "name": "stdout",
          "text": [
            "              precision    recall  f1-score   support\n",
            "\n",
            "           0       1.00      1.00      1.00        10\n",
            "           1       1.00      1.00      1.00         9\n",
            "           2       1.00      1.00      1.00        11\n",
            "\n",
            "    accuracy                           1.00        30\n",
            "   macro avg       1.00      1.00      1.00        30\n",
            "weighted avg       1.00      1.00      1.00        30\n",
            "\n"
          ]
        }
      ]
    },
    {
      "cell_type": "code",
      "source": [
        "#39. Train a Random Forest Classifier and analyze the effect of max_depth on accuracy.\n",
        "\n",
        "from sklearn.datasets import load_iris\n",
        "from sklearn.ensemble import RandomForestClassifier\n",
        "from sklearn.model_selection import train_test_split\n",
        "from sklearn.metrics import accuracy_score\n",
        "import matplotlib.pyplot as plt\n",
        "\n",
        "# Load data\n",
        "data = load_iris()\n",
        "X, y = data.data, data.target\n",
        "\n",
        "# Split dataset\n",
        "X_train, X_test, y_train, y_test = train_test_split(X, y, test_size=0.2, random_state=42)\n",
        "\n",
        "# Different max_depth values to try\n",
        "max_depth_values = [1, 2, 3, 4, 5, 6, None]\n",
        "\n",
        "accuracies = []\n",
        "\n",
        "for depth in max_depth_values:\n",
        "    # Initialize RandomForest with given max_depth\n",
        "    rf = RandomForestClassifier(max_depth=depth, random_state=42)\n",
        "    rf.fit(X_train, y_train)\n",
        "    y_pred = rf.predict(X_test)\n",
        "    acc = accuracy_score(y_test, y_pred)\n",
        "    accuracies.append(acc)\n",
        "    print(f\"max_depth={depth} => Accuracy: {acc:.4f}\")\n",
        "\n",
        "# Plot accuracy vs max_depth\n",
        "plt.figure(figsize=(8,5))\n",
        "plt.plot([str(d) for d in max_depth_values], accuracies, marker='o')\n",
        "plt.title(\"Effect of max_depth on Random Forest Accuracy\")\n",
        "plt.xlabel(\"max_depth\")\n",
        "plt.ylabel(\"Accuracy\")\n",
        "plt.grid(True)\n",
        "plt.show()\n"
      ],
      "metadata": {
        "colab": {
          "base_uri": "https://localhost:8080/",
          "height": 608
        },
        "id": "hukFPEz3EC3q",
        "outputId": "d2d3185b-c457-45dd-b8a0-1e49e15e7b9e"
      },
      "execution_count": 27,
      "outputs": [
        {
          "output_type": "stream",
          "name": "stdout",
          "text": [
            "max_depth=1 => Accuracy: 1.0000\n",
            "max_depth=2 => Accuracy: 1.0000\n",
            "max_depth=3 => Accuracy: 1.0000\n",
            "max_depth=4 => Accuracy: 1.0000\n",
            "max_depth=5 => Accuracy: 1.0000\n",
            "max_depth=6 => Accuracy: 1.0000\n",
            "max_depth=None => Accuracy: 1.0000\n"
          ]
        },
        {
          "output_type": "display_data",
          "data": {
            "text/plain": [
              "<Figure size 800x500 with 1 Axes>"
            ],
            "image/png": "[encoded data removed]"
          },
          "metadata": {}
        }
      ]
    },
    {
      "cell_type": "code",
      "source": [
        "#40. Train a Bagging Regressor using different base estimators (DecisionTree and KNeighbors) and compare performance.\n",
        "\n",
        "from sklearn.datasets import fetch_california_housing\n",
        "from sklearn.model_selection import train_test_split\n",
        "from sklearn.ensemble import BaggingRegressor\n",
        "from sklearn.tree import DecisionTreeRegressor\n",
        "from sklearn.neighbors import KNeighborsRegressor\n",
        "from sklearn.metrics import mean_squared_error\n",
        "\n",
        "# Load dataset\n",
        "data = fetch_california_housing()\n",
        "X, y = data.data, data.target\n",
        "\n",
        "# Split data\n",
        "X_train, X_test, y_train, y_test = train_test_split(X, y, test_size=0.2, random_state=42)\n",
        "\n",
        "# Define base estimators\n",
        "base_estimators = {\n",
        "    \"Decision Tree\": DecisionTreeRegressor(),\n",
        "    \"K-Neighbors\": KNeighborsRegressor()\n",
        "}\n",
        "\n",
        "# Train and evaluate Bagging Regressor with different base estimators\n",
        "for name, estimator in base_estimators.items():\n",
        "    bagging = BaggingRegressor(estimator=estimator, n_estimators=50, random_state=42)\n",
        "    bagging.fit(X_train, y_train)\n",
        "    y_pred = bagging.predict(X_test)\n",
        "    mse = mean_squared_error(y_test, y_pred)\n",
        "    print(f\"{name} as base estimator -> MSE: {mse:.4f}\")\n"
      ],
      "metadata": {
        "colab": {
          "base_uri": "https://localhost:8080/"
        },
        "id": "9YrjtYhzGCFX",
        "outputId": "3ec5ad4f-525b-4f0a-fc29-d4682bc3400a"
      },
      "execution_count": 29,
      "outputs": [
        {
          "output_type": "stream",
          "name": "stdout",
          "text": [
            "Decision Tree as base estimator -> MSE: 0.2573\n",
            "K-Neighbors as base estimator -> MSE: 1.0763\n"
          ]
        }
      ]
    },
    {
      "cell_type": "code",
      "source": [
        "#41. Train a Random Forest Classifier and evaluate its performance using ROC-AUC Score.\n",
        "\n",
        "from sklearn.datasets import load_breast_cancer\n",
        "from sklearn.model_selection import train_test_split\n",
        "from sklearn.ensemble import RandomForestClassifier\n",
        "from sklearn.metrics import roc_auc_score, roc_curve\n",
        "import matplotlib.pyplot as plt\n",
        "\n",
        "# Load a binary classification dataset\n",
        "data = load_breast_cancer()\n",
        "X, y = data.data, data.target\n",
        "\n",
        "# Split into train and test sets\n",
        "X_train, X_test, y_train, y_test = train_test_split(X, y, test_size=0.2, random_state=42)\n",
        "\n",
        "# Initialize and train Random Forest Classifier\n",
        "rf = RandomForestClassifier(random_state=42)\n",
        "rf.fit(X_train, y_train)\n",
        "\n",
        "# Predict probabilities for the positive class\n",
        "y_proba = rf.predict_proba(X_test)[:, 1]\n",
        "\n",
        "# Calculate ROC-AUC score\n",
        "roc_auc = roc_auc_score(y_test, y_proba)\n",
        "print(f\"ROC-AUC Score: {roc_auc:.4f}\")\n",
        "\n",
        "# Optional: Plot ROC Curve\n",
        "fpr, tpr, thresholds = roc_curve(y_test, y_proba)\n",
        "plt.plot(fpr, tpr, label=f\"ROC curve (area = {roc_auc:.4f})\")\n",
        "plt.plot([0, 1], [0, 1], 'k--')  # diagonal line\n",
        "plt.xlabel(\"False Positive Rate\")\n",
        "plt.ylabel(\"True Positive Rate\")\n",
        "plt.title(\"ROC Curve - Random Forest Classifier\")\n",
        "plt.legend(loc=\"lower right\")\n",
        "plt.show()\n"
      ],
      "metadata": {
        "colab": {
          "base_uri": "https://localhost:8080/",
          "height": 489
        },
        "id": "kYP_RzSDGCDg",
        "outputId": "bfa801d9-c659-4c5f-ce61-dfc5c1f3b1b5"
      },
      "execution_count": 30,
      "outputs": [
        {
          "output_type": "stream",
          "name": "stdout",
          "text": [
            "ROC-AUC Score: 0.9953\n"
          ]
        },
        {
          "output_type": "display_data",
          "data": {
            "text/plain": [
              "<Figure size 640x480 with 1 Axes>"
            ],
            "image/png": "[encoded data removed]"
          },
          "metadata": {}
        }
      ]
    },
    {
      "cell_type": "code",
      "source": [
        "#42. Train a Bagging Classifier and evaluate its performance using cross-validation.\n",
        "\n",
        "from sklearn.datasets import load_breast_cancer\n",
        "from sklearn.ensemble import BaggingClassifier\n",
        "from sklearn.tree import DecisionTreeClassifier\n",
        "from sklearn.model_selection import cross_val_score\n",
        "import numpy as np\n",
        "\n",
        "# Load dataset\n",
        "data = load_breast_cancer()\n",
        "X, y = data.data, data.target\n",
        "\n",
        "# Initialize Bagging Classifier with Decision Tree as base estimator\n",
        "bagging = BaggingClassifier(\n",
        "    estimator=DecisionTreeClassifier(),\n",
        "    n_estimators=100,\n",
        "    random_state=42\n",
        ")\n",
        "\n",
        "# Perform 5-fold cross-validation and get accuracy scores\n",
        "cv_scores = cross_val_score(bagging, X, y, cv=5, scoring='accuracy')\n",
        "\n",
        "# Print mean and std deviation of accuracy across folds\n",
        "print(f\"Cross-validated Accuracy: {np.mean(cv_scores):.4f} ± {np.std(cv_scores):.4f}\")\n"
      ],
      "metadata": {
        "colab": {
          "base_uri": "https://localhost:8080/"
        },
        "id": "IQyfZBYVGCAa",
        "outputId": "87103457-3ed3-49f3-f609-7df9da92ff92"
      },
      "execution_count": 31,
      "outputs": [
        {
          "output_type": "stream",
          "name": "stdout",
          "text": [
            "Cross-validated Accuracy: 0.9579 ± 0.0382\n"
          ]
        }
      ]
    },
    {
      "cell_type": "code",
      "source": [
        "#43. Train a Random Forest Classifier and plot the Precision-Recall curv.\n",
        "\n",
        "import matplotlib.pyplot as plt\n",
        "from sklearn.datasets import load_breast_cancer\n",
        "from sklearn.ensemble import RandomForestClassifier\n",
        "from sklearn.model_selection import train_test_split\n",
        "from sklearn.metrics import precision_recall_curve, average_precision_score\n",
        "\n",
        "# Load dataset\n",
        "data = load_breast_cancer()\n",
        "X, y = data.data, data.target\n",
        "\n",
        "# Split data into train and test\n",
        "X_train, X_test, y_train, y_test = train_test_split(X, y, test_size=0.3, random_state=42)\n",
        "\n",
        "# Train Random Forest Classifier\n",
        "rf = RandomForestClassifier(random_state=42)\n",
        "rf.fit(X_train, y_train)\n",
        "\n",
        "# Predict probabilities for positive class\n",
        "y_scores = rf.predict_proba(X_test)[:, 1]\n",
        "\n",
        "# Compute Precision-Recall curve values\n",
        "precision, recall, thresholds = precision_recall_curve(y_test, y_scores)\n",
        "\n",
        "# Compute average precision score (area under curve)\n",
        "avg_precision = average_precision_score(y_test, y_scores)\n",
        "\n",
        "# Plot Precision-Recall curve\n",
        "plt.figure(figsize=(8, 6))\n",
        "plt.plot(recall, precision, label=f'PR curve (AP = {avg_precision:.2f})')\n",
        "plt.xlabel('Recall')\n",
        "plt.ylabel('Precision')\n",
        "plt.title('Precision-Recall Curve for Random Forest Classifier')\n",
        "plt.legend()\n",
        "plt.grid(True)\n",
        "plt.show()\n"
      ],
      "metadata": {
        "colab": {
          "base_uri": "https://localhost:8080/",
          "height": 564
        },
        "id": "a0Tmt_cQGtSk",
        "outputId": "52fec4a1-2989-4730-a7a0-e51fefd7973e"
      },
      "execution_count": 32,
      "outputs": [
        {
          "output_type": "display_data",
          "data": {
            "text/plain": [
              "<Figure size 800x600 with 1 Axes>"
            ],
            "image/png": "[encoded data removed]"
          },
          "metadata": {}
        }
      ]
    },
    {
      "cell_type": "code",
      "source": [
        "#44. Train a Stacking Classifier with Random Forest and Logistic Regression and compare accuracy.\n",
        "\n",
        "from sklearn.datasets import load_breast_cancer\n",
        "from sklearn.model_selection import train_test_split\n",
        "from sklearn.ensemble import RandomForestClassifier, StackingClassifier\n",
        "from sklearn.linear_model import LogisticRegression\n",
        "from sklearn.preprocessing import StandardScaler\n",
        "from sklearn.pipeline import make_pipeline\n",
        "from sklearn.metrics import accuracy_score\n",
        "\n",
        "# Load data\n",
        "data = load_breast_cancer()\n",
        "X, y = data.data, data.target\n",
        "\n",
        "# Split data\n",
        "X_train, X_test, y_train, y_test = train_test_split(X, y, test_size=0.3, random_state=42)\n",
        "\n",
        "# Create scaled logistic regression pipeline\n",
        "lr = make_pipeline(StandardScaler(), LogisticRegression(max_iter=2000, random_state=42))\n",
        "\n",
        "# Random Forest (no scaling needed)\n",
        "rf = RandomForestClassifier(random_state=42)\n",
        "\n",
        "# Stacking Classifier uses the base estimators\n",
        "stacking = StackingClassifier(\n",
        "    estimators=[('rf', rf), ('lr', lr)],\n",
        "    final_estimator=LogisticRegression(max_iter=2000),\n",
        "    cv=5\n",
        ")\n",
        "\n",
        "# Train base models\n",
        "rf.fit(X_train, y_train)\n",
        "lr.fit(X_train, y_train)\n",
        "\n",
        "# Train stacking model\n",
        "stacking.fit(X_train, y_train)\n",
        "\n",
        "# Predict and evaluate\n",
        "print(\"Random Forest Accuracy:\", accuracy_score(y_test, rf.predict(X_test)))\n",
        "print(\"Logistic Regression Accuracy:\", accuracy_score(y_test, lr.predict(X_test)))\n",
        "print(\"Stacking Classifier Accuracy:\", accuracy_score(y_test, stacking.predict(X_test)))\n"
      ],
      "metadata": {
        "colab": {
          "base_uri": "https://localhost:8080/"
        },
        "id": "Hogj-wLpGtPr",
        "outputId": "30b426ec-922f-4d4c-c7e2-c5c49b403214"
      },
      "execution_count": 34,
      "outputs": [
        {
          "output_type": "stream",
          "name": "stdout",
          "text": [
            "Random Forest Accuracy: 0.9707602339181286\n",
            "Logistic Regression Accuracy: 0.9824561403508771\n",
            "Stacking Classifier Accuracy: 0.9766081871345029\n"
          ]
        }
      ]
    },
    {
      "cell_type": "code",
      "source": [
        "#45. Train a Bagging Regressor with different levels of bootstrap samples and compare performance.\n",
        "\n",
        "from sklearn.datasets import fetch_california_housing\n",
        "from sklearn.ensemble import BaggingRegressor\n",
        "from sklearn.tree import DecisionTreeRegressor\n",
        "from sklearn.model_selection import train_test_split\n",
        "from sklearn.metrics import r2_score\n",
        "import matplotlib.pyplot as plt\n",
        "\n",
        "# Load dataset\n",
        "data = fetch_california_housing()\n",
        "X, y = data.data, data.target\n",
        "\n",
        "# Train-test split\n",
        "X_train, X_test, y_train, y_test = train_test_split(X, y, test_size=0.3, random_state=42)\n",
        "\n",
        "# Different bootstrap sample sizes (fractions of training set)\n",
        "bootstrap_samples = [0.1, 0.3, 0.5, 0.7, 1.0]\n",
        "\n",
        "r2_scores = []\n",
        "\n",
        "for sample_frac in bootstrap_samples:\n",
        "    model = BaggingRegressor(\n",
        "        estimator=DecisionTreeRegressor(),\n",
        "        n_estimators=100,\n",
        "        max_samples=sample_frac,  # fraction of samples to draw from X_train\n",
        "        bootstrap=True,\n",
        "        random_state=42\n",
        "    )\n",
        "    model.fit(X_train, y_train)\n",
        "    y_pred = model.predict(X_test)\n",
        "    score = r2_score(y_test, y_pred)\n",
        "    r2_scores.append(score)\n",
        "    print(f\"Bootstrap sample fraction: {sample_frac} => R² Score: {score:.4f}\")\n",
        "\n",
        "# Plot results\n",
        "plt.figure(figsize=(8,5))\n",
        "plt.plot(bootstrap_samples, r2_scores, marker='o')\n",
        "plt.title('Bagging Regressor Performance vs Bootstrap Sample Size')\n",
        "plt.xlabel('Bootstrap Sample Fraction (max_samples)')\n",
        "plt.ylabel('R² Score on Test Set')\n",
        "plt.grid(True)\n",
        "plt.show()\n"
      ],
      "metadata": {
        "colab": {
          "base_uri": "https://localhost:8080/",
          "height": 574
        },
        "id": "bHo6lmskHlTr",
        "outputId": "87ea1126-55bd-4ba3-c6ae-2305f165b826"
      },
      "execution_count": 36,
      "outputs": [
        {
          "output_type": "stream",
          "name": "stdout",
          "text": [
            "Bootstrap sample fraction: 0.1 => R² Score: 0.7651\n",
            "Bootstrap sample fraction: 0.3 => R² Score: 0.7892\n",
            "Bootstrap sample fraction: 0.5 => R² Score: 0.7999\n",
            "Bootstrap sample fraction: 0.7 => R² Score: 0.8031\n",
            "Bootstrap sample fraction: 1.0 => R² Score: 0.8043\n"
          ]
        },
        {
          "output_type": "display_data",
          "data": {
            "text/plain": [
              "<Figure size 800x500 with 1 Axes>"
            ],
            "image/png": "[encoded data removed]"
          },
          "metadata": {}
        }
      ]
    },
    {
      "cell_type": "markdown",
      "source": [
        "#**----------------------------------------------END------------------------------------------**"
      ],
      "metadata": {
        "id": "5TsV2jgLIS82"
      }
    }
  ]
}